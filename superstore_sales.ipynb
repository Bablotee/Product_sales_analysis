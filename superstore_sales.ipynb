{
 "cells": [
  {
   "cell_type": "markdown",
   "metadata": {},
   "source": [
    "***Objectives***\n",
    "\n",
    "Upon initial inspection of the data, we can start thinking of some questions about it that we would want to answer.\n",
    "\n",
    "1. What is the overall sales trend?\n",
    "\n",
    "2. Which are the Top 10 products by sales?\n",
    "\n",
    "3. Which are the Most Selling Products?\n",
    "\n",
    "4. Which is the most preferred Shipping Mode?\n",
    "\n",
    "5. Which are the Most Profitable Category and Sub-Category?\n",
    "\n",
    "6. Who are the customers that attracts the most sales ?\n",
    "\n",
    "7. In what year did we have the most and least sales and what item was mostly sold in each year?\n",
    "\n",
    "8. What day of the week did most people make orders?\n",
    "\n",
    "9. Is there a trend in purchase per month?\n",
    "\n",
    "10. What country do most customers come from ?"
   ]
  },
  {
   "cell_type": "markdown",
   "metadata": {},
   "source": [
    "Import libraries"
   ]
  },
  {
   "cell_type": "code",
   "execution_count": 1,
   "metadata": {},
   "outputs": [
    {
     "data": {
      "text/html": [
       "        <script type=\"text/javascript\">\n",
       "        window.PlotlyConfig = {MathJaxConfig: 'local'};\n",
       "        if (window.MathJax && window.MathJax.Hub && window.MathJax.Hub.Config) {window.MathJax.Hub.Config({SVG: {font: \"STIX-Web\"}});}\n",
       "        if (typeof require !== 'undefined') {\n",
       "        require.undef(\"plotly\");\n",
       "        requirejs.config({\n",
       "            paths: {\n",
       "                'plotly': ['https://cdn.plot.ly/plotly-2.20.0.min']\n",
       "            }\n",
       "        });\n",
       "        require(['plotly'], function(Plotly) {\n",
       "            window._Plotly = Plotly;\n",
       "        });\n",
       "        }\n",
       "        </script>\n",
       "        "
      ]
     },
     "metadata": {},
     "output_type": "display_data"
    },
    {
     "data": {
      "text/html": [
       "        <script type=\"text/javascript\">\n",
       "        window.PlotlyConfig = {MathJaxConfig: 'local'};\n",
       "        if (window.MathJax && window.MathJax.Hub && window.MathJax.Hub.Config) {window.MathJax.Hub.Config({SVG: {font: \"STIX-Web\"}});}\n",
       "        if (typeof require !== 'undefined') {\n",
       "        require.undef(\"plotly\");\n",
       "        requirejs.config({\n",
       "            paths: {\n",
       "                'plotly': ['https://cdn.plot.ly/plotly-2.20.0.min']\n",
       "            }\n",
       "        });\n",
       "        require(['plotly'], function(Plotly) {\n",
       "            window._Plotly = Plotly;\n",
       "        });\n",
       "        }\n",
       "        </script>\n",
       "        "
      ]
     },
     "metadata": {},
     "output_type": "display_data"
    }
   ],
   "source": [
    "import pandas as pd\n",
    "import numpy as np \n",
    "import chart_studio.plotly as py\n",
    "import cufflinks as cf\n",
    "import matplotlib.pyplot as plt \n",
    "import seaborn as sns\n",
    "import plotly.express as px\n",
    "import plotly.graph_objects as go  \n",
    "fig = go.Figure()\n",
    "%matplotlib inline\n",
    "\n",
    "# Make Plotly work in your Jupyter Notebook\n",
    "from plotly.offline import download_plotlyjs, init_notebook_mode, plot, iplot\n",
    "init_notebook_mode(connected=True)\n",
    "# Use Plotly locally\n",
    "cf.go_offline()\n",
    "\n",
    "\n",
    "\n",
    "import os "
   ]
  },
  {
   "cell_type": "markdown",
   "metadata": {},
   "source": [
    "Load dataset"
   ]
  },
  {
   "cell_type": "code",
   "execution_count": 2,
   "metadata": {},
   "outputs": [],
   "source": [
    "os.chdir('/Users/tomisin/Library/docs/com~apple~CloudDocs/c.Documents/Data_analysis/My_workspace/Miniprojects/Product_sales_analysis')\n",
    "df = pd.read_csv('/Users/tomisin/Library/docs/com~apple~CloudDocs/c.Documents/Data_analysis/My_workspace/Miniprojects/Product_sales_analysis/superstore_sales.csv')"
   ]
  },
  {
   "cell_type": "code",
   "execution_count": 3,
   "metadata": {},
   "outputs": [
    {
     "data": {
      "text/plain": [
       "Index(['order_id', 'order_date', 'ship_date', 'ship_mode', 'customer_name',\n",
       "       'segment', 'state', 'country', 'market', 'region', 'product_id',\n",
       "       'category', 'sub_category', 'product_name', 'sales', 'quantity',\n",
       "       'discount', 'profit', 'shipping_cost', 'order_priority', 'year'],\n",
       "      dtype='object')"
      ]
     },
     "execution_count": 3,
     "metadata": {},
     "output_type": "execute_result"
    }
   ],
   "source": [
    "df.columns"
   ]
  },
  {
   "cell_type": "markdown",
   "metadata": {},
   "source": [
    "eyeball and inspect data for any missing values, duplicate rows or columns"
   ]
  },
  {
   "cell_type": "code",
   "execution_count": 4,
   "metadata": {},
   "outputs": [
    {
     "name": "stdout",
     "output_type": "stream",
     "text": [
      "<class 'pandas.core.frame.DataFrame'>\n",
      "RangeIndex: 51290 entries, 0 to 51289\n",
      "Data columns (total 21 columns):\n",
      " #   Column          Non-Null Count  Dtype  \n",
      "---  ------          --------------  -----  \n",
      " 0   order_id        51290 non-null  object \n",
      " 1   order_date      51290 non-null  object \n",
      " 2   ship_date       51290 non-null  object \n",
      " 3   ship_mode       51290 non-null  object \n",
      " 4   customer_name   51290 non-null  object \n",
      " 5   segment         51290 non-null  object \n",
      " 6   state           51290 non-null  object \n",
      " 7   country         51290 non-null  object \n",
      " 8   market          51290 non-null  object \n",
      " 9   region          51290 non-null  object \n",
      " 10  product_id      51290 non-null  object \n",
      " 11  category        51290 non-null  object \n",
      " 12  sub_category    51290 non-null  object \n",
      " 13  product_name    51290 non-null  object \n",
      " 14  sales           51290 non-null  float64\n",
      " 15  quantity        51290 non-null  int64  \n",
      " 16  discount        51290 non-null  float64\n",
      " 17  profit          51290 non-null  float64\n",
      " 18  shipping_cost   51290 non-null  float64\n",
      " 19  order_priority  51290 non-null  object \n",
      " 20  year            51290 non-null  int64  \n",
      "dtypes: float64(4), int64(2), object(15)\n",
      "memory usage: 8.2+ MB\n",
      "None\n",
      "************\n",
      "************\n",
      "[0, 0, 0, 0, 0, 0, 0, 0, 0, 0, 0, 0, 0, 0, 0, 0, 0, 0, 0, 0, 0]\n",
      "************\n",
      "************\n",
      "              sales      quantity      discount        profit  shipping_cost  \\\n",
      "count  51290.000000  51290.000000  51290.000000  51290.000000   51290.000000   \n",
      "mean     246.490685      3.476545      0.142883     28.641740      26.375915   \n",
      "std      487.565388      2.278766      0.212285    174.424113      57.296804   \n",
      "min        0.440000      1.000000      0.000000  -6599.978000       0.000000   \n",
      "25%       30.762500      2.000000      0.000000      0.000000       2.610000   \n",
      "50%       85.055000      3.000000      0.000000      9.240000       7.790000   \n",
      "75%      251.055000      5.000000      0.200000     36.810000      24.450000   \n",
      "max    22638.480000     14.000000      0.850000   8399.976000     933.570000   \n",
      "\n",
      "               year  \n",
      "count  51290.000000  \n",
      "mean    2012.777208  \n",
      "std        1.098931  \n",
      "min     2011.000000  \n",
      "25%     2012.000000  \n",
      "50%     2013.000000  \n",
      "75%     2014.000000  \n",
      "max     2014.000000  \n",
      "************\n",
      "************\n",
      "There are no duplicate values in this dataset\n"
     ]
    }
   ],
   "source": [
    "\n",
    "print(df.info())\n",
    "\n",
    "print('************')\n",
    "print('************')\n",
    "\n",
    "#for non-null/missing values\n",
    "print(df.isna().sum().tolist())\n",
    "\n",
    "print('************')\n",
    "print('************')\n",
    "\n",
    "print(df.describe())\n",
    "\n",
    "print('************')\n",
    "print('************')\n",
    "\n",
    "#for duplicate values in the dataset\n",
    "x = df.columns.duplicated().tolist()\n",
    "y = df.duplicated().tolist()\n",
    "result1 = []\n",
    "result2 = []\n",
    "if True in x and y:\n",
    "    result1.append(x)\n",
    "    result2.append(y)\n",
    "    print('There are duplicate values in this dataset')\n",
    "else:\n",
    "    print('There are no duplicate values in this dataset')\n"
   ]
  },
  {
   "cell_type": "markdown",
   "metadata": {},
   "source": [
    "Add new columns 'month' and 'weekday' to your dataset"
   ]
  },
  {
   "cell_type": "code",
   "execution_count": 5,
   "metadata": {},
   "outputs": [
    {
     "data": {
      "text/html": [
       "<div>\n",
       "<style scoped>\n",
       "    .dataframe tbody tr th:only-of-type {\n",
       "        vertical-align: middle;\n",
       "    }\n",
       "\n",
       "    .dataframe tbody tr th {\n",
       "        vertical-align: top;\n",
       "    }\n",
       "\n",
       "    .dataframe thead th {\n",
       "        text-align: right;\n",
       "    }\n",
       "</style>\n",
       "<table border=\"1\" class=\"dataframe\">\n",
       "  <thead>\n",
       "    <tr style=\"text-align: right;\">\n",
       "      <th></th>\n",
       "      <th>order_id</th>\n",
       "      <th>order_date</th>\n",
       "      <th>ship_date</th>\n",
       "      <th>ship_mode</th>\n",
       "      <th>customer_name</th>\n",
       "      <th>segment</th>\n",
       "      <th>state</th>\n",
       "      <th>country</th>\n",
       "      <th>market</th>\n",
       "      <th>region</th>\n",
       "      <th>...</th>\n",
       "      <th>product_name</th>\n",
       "      <th>sales</th>\n",
       "      <th>quantity</th>\n",
       "      <th>discount</th>\n",
       "      <th>profit</th>\n",
       "      <th>shipping_cost</th>\n",
       "      <th>order_priority</th>\n",
       "      <th>year</th>\n",
       "      <th>month</th>\n",
       "      <th>weekday</th>\n",
       "    </tr>\n",
       "  </thead>\n",
       "  <tbody>\n",
       "    <tr>\n",
       "      <th>0</th>\n",
       "      <td>AG-2011-2040</td>\n",
       "      <td>2011-01-01</td>\n",
       "      <td>06.01.11</td>\n",
       "      <td>Standard Class</td>\n",
       "      <td>Toby Braunhardt</td>\n",
       "      <td>Consumer</td>\n",
       "      <td>Constantine</td>\n",
       "      <td>Algeria</td>\n",
       "      <td>Africa</td>\n",
       "      <td>Africa</td>\n",
       "      <td>...</td>\n",
       "      <td>Tenex Lockers, Blue</td>\n",
       "      <td>408.30</td>\n",
       "      <td>2</td>\n",
       "      <td>0.0</td>\n",
       "      <td>106.140</td>\n",
       "      <td>35.46</td>\n",
       "      <td>Medium</td>\n",
       "      <td>2011</td>\n",
       "      <td>1</td>\n",
       "      <td>5</td>\n",
       "    </tr>\n",
       "    <tr>\n",
       "      <th>1</th>\n",
       "      <td>IN-2011-47883</td>\n",
       "      <td>2011-01-01</td>\n",
       "      <td>08.01.11</td>\n",
       "      <td>Standard Class</td>\n",
       "      <td>Joseph Holt</td>\n",
       "      <td>Consumer</td>\n",
       "      <td>New South Wales</td>\n",
       "      <td>Australia</td>\n",
       "      <td>APAC</td>\n",
       "      <td>Oceania</td>\n",
       "      <td>...</td>\n",
       "      <td>Acme Trimmer, High Speed</td>\n",
       "      <td>120.37</td>\n",
       "      <td>3</td>\n",
       "      <td>0.1</td>\n",
       "      <td>36.036</td>\n",
       "      <td>9.72</td>\n",
       "      <td>Medium</td>\n",
       "      <td>2011</td>\n",
       "      <td>1</td>\n",
       "      <td>5</td>\n",
       "    </tr>\n",
       "    <tr>\n",
       "      <th>2</th>\n",
       "      <td>HU-2011-1220</td>\n",
       "      <td>2011-01-01</td>\n",
       "      <td>05.01.11</td>\n",
       "      <td>Second Class</td>\n",
       "      <td>Annie Thurman</td>\n",
       "      <td>Consumer</td>\n",
       "      <td>Budapest</td>\n",
       "      <td>Hungary</td>\n",
       "      <td>EMEA</td>\n",
       "      <td>EMEA</td>\n",
       "      <td>...</td>\n",
       "      <td>Tenex Box, Single Width</td>\n",
       "      <td>66.12</td>\n",
       "      <td>4</td>\n",
       "      <td>0.0</td>\n",
       "      <td>29.640</td>\n",
       "      <td>8.17</td>\n",
       "      <td>High</td>\n",
       "      <td>2011</td>\n",
       "      <td>1</td>\n",
       "      <td>5</td>\n",
       "    </tr>\n",
       "    <tr>\n",
       "      <th>3</th>\n",
       "      <td>IT-2011-3647632</td>\n",
       "      <td>2011-01-01</td>\n",
       "      <td>05.01.11</td>\n",
       "      <td>Second Class</td>\n",
       "      <td>Eugene Moren</td>\n",
       "      <td>Home Office</td>\n",
       "      <td>Stockholm</td>\n",
       "      <td>Sweden</td>\n",
       "      <td>EU</td>\n",
       "      <td>North</td>\n",
       "      <td>...</td>\n",
       "      <td>Enermax Note Cards, Premium</td>\n",
       "      <td>44.87</td>\n",
       "      <td>3</td>\n",
       "      <td>0.5</td>\n",
       "      <td>-26.055</td>\n",
       "      <td>4.82</td>\n",
       "      <td>High</td>\n",
       "      <td>2011</td>\n",
       "      <td>1</td>\n",
       "      <td>5</td>\n",
       "    </tr>\n",
       "    <tr>\n",
       "      <th>4</th>\n",
       "      <td>IN-2011-47883</td>\n",
       "      <td>2011-01-01</td>\n",
       "      <td>08.01.11</td>\n",
       "      <td>Standard Class</td>\n",
       "      <td>Joseph Holt</td>\n",
       "      <td>Consumer</td>\n",
       "      <td>New South Wales</td>\n",
       "      <td>Australia</td>\n",
       "      <td>APAC</td>\n",
       "      <td>Oceania</td>\n",
       "      <td>...</td>\n",
       "      <td>Eldon Light Bulb, Duo Pack</td>\n",
       "      <td>113.67</td>\n",
       "      <td>5</td>\n",
       "      <td>0.1</td>\n",
       "      <td>37.770</td>\n",
       "      <td>4.70</td>\n",
       "      <td>Medium</td>\n",
       "      <td>2011</td>\n",
       "      <td>1</td>\n",
       "      <td>5</td>\n",
       "    </tr>\n",
       "  </tbody>\n",
       "</table>\n",
       "<p>5 rows × 23 columns</p>\n",
       "</div>"
      ],
      "text/plain": [
       "          order_id order_date ship_date       ship_mode    customer_name  \\\n",
       "0     AG-2011-2040 2011-01-01  06.01.11  Standard Class  Toby Braunhardt   \n",
       "1    IN-2011-47883 2011-01-01  08.01.11  Standard Class      Joseph Holt   \n",
       "2     HU-2011-1220 2011-01-01  05.01.11    Second Class    Annie Thurman   \n",
       "3  IT-2011-3647632 2011-01-01  05.01.11    Second Class     Eugene Moren   \n",
       "4    IN-2011-47883 2011-01-01  08.01.11  Standard Class      Joseph Holt   \n",
       "\n",
       "       segment            state    country  market   region  ...  \\\n",
       "0     Consumer      Constantine    Algeria  Africa   Africa  ...   \n",
       "1     Consumer  New South Wales  Australia    APAC  Oceania  ...   \n",
       "2     Consumer         Budapest    Hungary    EMEA     EMEA  ...   \n",
       "3  Home Office        Stockholm     Sweden      EU    North  ...   \n",
       "4     Consumer  New South Wales  Australia    APAC  Oceania  ...   \n",
       "\n",
       "                  product_name   sales quantity discount   profit  \\\n",
       "0          Tenex Lockers, Blue  408.30        2      0.0  106.140   \n",
       "1     Acme Trimmer, High Speed  120.37        3      0.1   36.036   \n",
       "2      Tenex Box, Single Width   66.12        4      0.0   29.640   \n",
       "3  Enermax Note Cards, Premium   44.87        3      0.5  -26.055   \n",
       "4   Eldon Light Bulb, Duo Pack  113.67        5      0.1   37.770   \n",
       "\n",
       "   shipping_cost  order_priority  year  month weekday  \n",
       "0          35.46          Medium  2011      1       5  \n",
       "1           9.72          Medium  2011      1       5  \n",
       "2           8.17            High  2011      1       5  \n",
       "3           4.82            High  2011      1       5  \n",
       "4           4.70          Medium  2011      1       5  \n",
       "\n",
       "[5 rows x 23 columns]"
      ]
     },
     "execution_count": 5,
     "metadata": {},
     "output_type": "execute_result"
    }
   ],
   "source": [
    "from datetime import date\n",
    "\n",
    "df['order_date']=pd.to_datetime(df['order_date'])\n",
    "\n",
    "df['month']=df['order_date'].dt.month\n",
    "df['weekday']=df['order_date'].dt.weekday\n",
    "\n",
    "df.head()"
   ]
  },
  {
   "cell_type": "code",
   "execution_count": 25,
   "metadata": {},
   "outputs": [
    {
     "data": {
      "text/plain": [
       "1469034.8212799998"
      ]
     },
     "execution_count": 25,
     "metadata": {},
     "output_type": "execute_result"
    }
   ],
   "source": [
    "df['profit'].sum()"
   ]
  },
  {
   "cell_type": "markdown",
   "metadata": {},
   "source": [
    "EXPLORATORY DATA ANALYSIS (EDA)\n",
    "\n",
    "1. What is the overall profit and sales trend?\n",
    "\n",
    "*****Sales and profit progressively increases from 2011 till 2014. This is a great achievement for the store and overall, the company is growing. It also means that company is making profit*****"
   ]
  },
  {
   "cell_type": "code",
   "execution_count": 34,
   "metadata": {},
   "outputs": [
    {
     "name": "stdout",
     "output_type": "stream",
     "text": [
      "AxesSubplot(0.125,0.125;0.775x0.755)\n",
      "AxesSubplot(0.125,0.125;0.775x0.755)\n"
     ]
    },
    {
     "data": {
      "image/png": "[encoded data removed]",
      "text/plain": [
       "<Figure size 432x288 with 1 Axes>"
      ]
     },
     "metadata": {
      "needs_background": "light"
     },
     "output_type": "display_data"
    }
   ],
   "source": [
    "print(df.groupby('year')[('sales')].sum().plot.line())\n",
    "print(df.groupby('year')[('profit')].sum().plot.line())\n",
    "x = cost\n"
   ]
  },
  {
   "cell_type": "code",
   "execution_count": 32,
   "metadata": {},
   "outputs": [
    {
     "data": {
      "text/plain": [
       "<AxesSubplot:xlabel='year'>"
      ]
     },
     "execution_count": 32,
     "metadata": {},
     "output_type": "execute_result"
    },
    {
     "data": {
      "image/png": "[encoded data removed]",
      "text/plain": [
       "<Figure size 432x288 with 1 Axes>"
      ]
     },
     "metadata": {
      "needs_background": "light"
     },
     "output_type": "display_data"
    }
   ],
   "source": [
    "df.groupby('year')[('profit')].sum().plot.line()\n"
   ]
  },
  {
   "cell_type": "code",
   "execution_count": 26,
   "metadata": {},
   "outputs": [
    {
     "data": {
      "text/html": [
       "<div>\n",
       "<style scoped>\n",
       "    .dataframe tbody tr th:only-of-type {\n",
       "        vertical-align: middle;\n",
       "    }\n",
       "\n",
       "    .dataframe tbody tr th {\n",
       "        vertical-align: top;\n",
       "    }\n",
       "\n",
       "    .dataframe thead th {\n",
       "        text-align: right;\n",
       "    }\n",
       "</style>\n",
       "<table border=\"1\" class=\"dataframe\">\n",
       "  <thead>\n",
       "    <tr style=\"text-align: right;\">\n",
       "      <th></th>\n",
       "      <th>sales</th>\n",
       "    </tr>\n",
       "    <tr>\n",
       "      <th>year</th>\n",
       "      <th></th>\n",
       "    </tr>\n",
       "  </thead>\n",
       "  <tbody>\n",
       "    <tr>\n",
       "      <th>2011</th>\n",
       "      <td>2259451.64</td>\n",
       "    </tr>\n",
       "    <tr>\n",
       "      <th>2012</th>\n",
       "      <td>2677439.91</td>\n",
       "    </tr>\n",
       "    <tr>\n",
       "      <th>2013</th>\n",
       "      <td>3405748.03</td>\n",
       "    </tr>\n",
       "    <tr>\n",
       "      <th>2014</th>\n",
       "      <td>4299867.67</td>\n",
       "    </tr>\n",
       "  </tbody>\n",
       "</table>\n",
       "</div>"
      ],
      "text/plain": [
       "           sales\n",
       "year            \n",
       "2011  2259451.64\n",
       "2012  2677439.91\n",
       "2013  3405748.03\n",
       "2014  4299867.67"
      ]
     },
     "execution_count": 26,
     "metadata": {},
     "output_type": "execute_result"
    }
   ],
   "source": [
    "sales_year.head()"
   ]
  },
  {
   "cell_type": "markdown",
   "metadata": {},
   "source": [
    "2. What are the top 10 product by sales?\n",
    "\n",
    "***Based on sales from 2011-2014, smartphones generate the highest sales, Apple bringing in the most sales.***"
   ]
  },
  {
   "cell_type": "code",
   "execution_count": 36,
   "metadata": {},
   "outputs": [
    {
     "data": {
      "text/html": [
       "<div>\n",
       "<style scoped>\n",
       "    .dataframe tbody tr th:only-of-type {\n",
       "        vertical-align: middle;\n",
       "    }\n",
       "\n",
       "    .dataframe tbody tr th {\n",
       "        vertical-align: top;\n",
       "    }\n",
       "\n",
       "    .dataframe thead th {\n",
       "        text-align: right;\n",
       "    }\n",
       "</style>\n",
       "<table border=\"1\" class=\"dataframe\">\n",
       "  <thead>\n",
       "    <tr style=\"text-align: right;\">\n",
       "      <th></th>\n",
       "      <th></th>\n",
       "      <th></th>\n",
       "      <th>sales</th>\n",
       "    </tr>\n",
       "    <tr>\n",
       "      <th>product_name</th>\n",
       "      <th>category</th>\n",
       "      <th>sub_category</th>\n",
       "      <th></th>\n",
       "    </tr>\n",
       "  </thead>\n",
       "  <tbody>\n",
       "    <tr>\n",
       "      <th>Apple Smart Phone, Full Size</th>\n",
       "      <th>Technology</th>\n",
       "      <th>Phones</th>\n",
       "      <td>86935.79</td>\n",
       "    </tr>\n",
       "    <tr>\n",
       "      <th>Cisco Smart Phone, Full Size</th>\n",
       "      <th>Technology</th>\n",
       "      <th>Phones</th>\n",
       "      <td>76441.53</td>\n",
       "    </tr>\n",
       "    <tr>\n",
       "      <th>Motorola Smart Phone, Full Size</th>\n",
       "      <th>Technology</th>\n",
       "      <th>Phones</th>\n",
       "      <td>73156.33</td>\n",
       "    </tr>\n",
       "    <tr>\n",
       "      <th>Nokia Smart Phone, Full Size</th>\n",
       "      <th>Technology</th>\n",
       "      <th>Phones</th>\n",
       "      <td>71904.56</td>\n",
       "    </tr>\n",
       "    <tr>\n",
       "      <th>Canon imageCLASS 2200 Advanced Copier</th>\n",
       "      <th>Technology</th>\n",
       "      <th>Copiers</th>\n",
       "      <td>61599.83</td>\n",
       "    </tr>\n",
       "    <tr>\n",
       "      <th>Hon Executive Leather Armchair, Adjustable</th>\n",
       "      <th>Furniture</th>\n",
       "      <th>Chairs</th>\n",
       "      <td>58193.52</td>\n",
       "    </tr>\n",
       "    <tr>\n",
       "      <th>Office Star Executive Leather Armchair, Adjustable</th>\n",
       "      <th>Furniture</th>\n",
       "      <th>Chairs</th>\n",
       "      <td>50661.68</td>\n",
       "    </tr>\n",
       "    <tr>\n",
       "      <th>Harbour Creations Executive Leather Armchair, Adjustable</th>\n",
       "      <th>Furniture</th>\n",
       "      <th>Chairs</th>\n",
       "      <td>50121.52</td>\n",
       "    </tr>\n",
       "    <tr>\n",
       "      <th>Samsung Smart Phone, Cordless</th>\n",
       "      <th>Technology</th>\n",
       "      <th>Phones</th>\n",
       "      <td>48653.46</td>\n",
       "    </tr>\n",
       "    <tr>\n",
       "      <th>Nokia Smart Phone, with Caller ID</th>\n",
       "      <th>Technology</th>\n",
       "      <th>Phones</th>\n",
       "      <td>47877.80</td>\n",
       "    </tr>\n",
       "  </tbody>\n",
       "</table>\n",
       "</div>"
      ],
      "text/plain": [
       "                                                                               sales\n",
       "product_name                                       category   sub_category          \n",
       "Apple Smart Phone, Full Size                       Technology Phones        86935.79\n",
       "Cisco Smart Phone, Full Size                       Technology Phones        76441.53\n",
       "Motorola Smart Phone, Full Size                    Technology Phones        73156.33\n",
       "Nokia Smart Phone, Full Size                       Technology Phones        71904.56\n",
       "Canon imageCLASS 2200 Advanced Copier              Technology Copiers       61599.83\n",
       "Hon Executive Leather Armchair, Adjustable         Furniture  Chairs        58193.52\n",
       "Office Star Executive Leather Armchair, Adjustable Furniture  Chairs        50661.68\n",
       "Harbour Creations Executive Leather Armchair, A... Furniture  Chairs        50121.52\n",
       "Samsung Smart Phone, Cordless                      Technology Phones        48653.46\n",
       "Nokia Smart Phone, with Caller ID                  Technology Phones        47877.80"
      ]
     },
     "execution_count": 36,
     "metadata": {},
     "output_type": "execute_result"
    }
   ],
   "source": [
    "products_df = df.groupby(['product_name','category', 'sub_category'])[['sales']].sum().sort_values(by='sales', ascending=False).head(10)\n",
    "products_df"
   ]
  },
  {
   "cell_type": "markdown",
   "metadata": {},
   "source": [
    "3. What are the most and least selling products?\n",
    "\n",
    "***Based on quantity, Staples are the most ordered product.***"
   ]
  },
  {
   "cell_type": "code",
   "execution_count": 48,
   "metadata": {},
   "outputs": [
    {
     "name": "stdout",
     "output_type": "stream",
     "text": [
      "                                       quantity\n",
      "product_name                                   \n",
      "Staples                                     876\n",
      "Cardinal Index Tab, Clear                   337\n",
      "Eldon File Cart, Single Width               321\n",
      "Rogers File Cart, Single Width              262\n",
      "Sanford Pencil Sharpener, Water Color       259\n",
      "Stockwell Paper Clips, Assorted Sizes       253\n",
      "Avery Index Tab, Clear                      252\n",
      "Ibico Index Tab, Clear                      251\n",
      "Smead File Cart, Single Width               250\n",
      "Stanley Pencil Sharpener, Water Color       242\n",
      "**********************************\n",
      "**********************************\n",
      "                                                    quantity\n",
      "product_name                                                \n",
      "Avery 5                                                    2\n",
      "NeatDesk Desktop Scanner & Digital Filing System           2\n",
      "Hewlett-Packard Deskjet F4180 All-in-One Color ...         2\n",
      "Ultra Commercial Grade Dual Valve Door Closer              2\n",
      "Chromcraft Training Table, Adjustable Height               1\n",
      "Penpower WorldCard Pro Card Scanner                        1\n",
      "Bush Saratoga Collection 5-Shelf Bookcase, Hano...         1\n",
      "Boston 1900 Electric Pencil Sharpener                      1\n",
      "Xerox 20                                                   1\n",
      "Global Enterprise Series Seating Low-Back Swive...         1\n"
     ]
    }
   ],
   "source": [
    "most_sold_df = df.groupby('product_name')[['quantity']].sum().sort_values(by='quantity', ascending=False).head(10)\n",
    "least_sold_df = df.groupby('product_name')[['quantity']].sum().sort_values(by='quantity', ascending=False).tail(10)\n",
    "print(most_sold_df )\n",
    "print('**********************************')\n",
    "print('**********************************')\n",
    "print(least_sold_df)"
   ]
  },
  {
   "cell_type": "markdown",
   "metadata": {},
   "source": [
    "4. Which is the most preferred shipping mode?\n",
    "\n",
    "***The most preferred shipping mode would be Standard Class.***"
   ]
  },
  {
   "cell_type": "code",
   "execution_count": 10,
   "metadata": {},
   "outputs": [
    {
     "data": {
      "image/png": "[encoded data removed]",
      "text/plain": [
       "<Figure size 432x288 with 1 Axes>"
      ]
     },
     "metadata": {
      "needs_background": "light"
     },
     "output_type": "display_data"
    },
    {
     "data": {
      "text/plain": [
       "<Figure size 1440x1080 with 0 Axes>"
      ]
     },
     "metadata": {},
     "output_type": "display_data"
    }
   ],
   "source": [
    "#ship_mode_df = df.ship_mode.value_counts().to_frame('count')\n",
    "#ship_mode_df\n",
    "sns.countplot(data=df, x='ship_mode')\n",
    "plt.figure(figsize = (20,15))\n",
    "plt.show()"
   ]
  },
  {
   "cell_type": "markdown",
   "metadata": {},
   "source": [
    "5. Which are the Most Profitable Category, Sub-Category and product?\n",
    "\n",
    "***Here, we see that technology products bring in the most profit to the store, especially smartphones and copiers as earlier established, next would be office supplies (appliances and Storage), lastly furnitures (bookcases and chairs)\n",
    "Furnitures like 'Tables' tend to bring in some losses. The store could stop the sales of furnitures.***"
   ]
  },
  {
   "cell_type": "code",
   "execution_count": 11,
   "metadata": {},
   "outputs": [
    {
     "data": {
      "text/html": [
       "<div>\n",
       "<style scoped>\n",
       "    .dataframe tbody tr th:only-of-type {\n",
       "        vertical-align: middle;\n",
       "    }\n",
       "\n",
       "    .dataframe tbody tr th {\n",
       "        vertical-align: top;\n",
       "    }\n",
       "\n",
       "    .dataframe thead th {\n",
       "        text-align: right;\n",
       "    }\n",
       "</style>\n",
       "<table border=\"1\" class=\"dataframe\">\n",
       "  <thead>\n",
       "    <tr style=\"text-align: right;\">\n",
       "      <th></th>\n",
       "      <th></th>\n",
       "      <th>profit</th>\n",
       "    </tr>\n",
       "    <tr>\n",
       "      <th>category</th>\n",
       "      <th>sub_category</th>\n",
       "      <th></th>\n",
       "    </tr>\n",
       "  </thead>\n",
       "  <tbody>\n",
       "    <tr>\n",
       "      <th rowspan=\"4\" valign=\"top\">Technology</th>\n",
       "      <th>Copiers</th>\n",
       "      <td>258567.54818</td>\n",
       "    </tr>\n",
       "    <tr>\n",
       "      <th>Phones</th>\n",
       "      <td>216717.00580</td>\n",
       "    </tr>\n",
       "    <tr>\n",
       "      <th>Accessories</th>\n",
       "      <td>129626.30620</td>\n",
       "    </tr>\n",
       "    <tr>\n",
       "      <th>Machines</th>\n",
       "      <td>58867.87300</td>\n",
       "    </tr>\n",
       "    <tr>\n",
       "      <th rowspan=\"9\" valign=\"top\">Office Supplies</th>\n",
       "      <th>Appliances</th>\n",
       "      <td>141680.58940</td>\n",
       "    </tr>\n",
       "    <tr>\n",
       "      <th>Storage</th>\n",
       "      <td>108461.48980</td>\n",
       "    </tr>\n",
       "    <tr>\n",
       "      <th>Binders</th>\n",
       "      <td>72449.84600</td>\n",
       "    </tr>\n",
       "    <tr>\n",
       "      <th>Paper</th>\n",
       "      <td>59207.68270</td>\n",
       "    </tr>\n",
       "    <tr>\n",
       "      <th>Art</th>\n",
       "      <td>57953.91090</td>\n",
       "    </tr>\n",
       "    <tr>\n",
       "      <th>Envelopes</th>\n",
       "      <td>29601.11630</td>\n",
       "    </tr>\n",
       "    <tr>\n",
       "      <th>Supplies</th>\n",
       "      <td>22583.26310</td>\n",
       "    </tr>\n",
       "    <tr>\n",
       "      <th>Labels</th>\n",
       "      <td>15010.51200</td>\n",
       "    </tr>\n",
       "    <tr>\n",
       "      <th>Fasteners</th>\n",
       "      <td>11525.42410</td>\n",
       "    </tr>\n",
       "    <tr>\n",
       "      <th rowspan=\"4\" valign=\"top\">Furniture</th>\n",
       "      <th>Bookcases</th>\n",
       "      <td>161924.41950</td>\n",
       "    </tr>\n",
       "    <tr>\n",
       "      <th>Chairs</th>\n",
       "      <td>141973.79750</td>\n",
       "    </tr>\n",
       "    <tr>\n",
       "      <th>Furnishings</th>\n",
       "      <td>46967.42550</td>\n",
       "    </tr>\n",
       "    <tr>\n",
       "      <th>Tables</th>\n",
       "      <td>-64083.38870</td>\n",
       "    </tr>\n",
       "  </tbody>\n",
       "</table>\n",
       "</div>"
      ],
      "text/plain": [
       "                                    profit\n",
       "category        sub_category              \n",
       "Technology      Copiers       258567.54818\n",
       "                Phones        216717.00580\n",
       "                Accessories   129626.30620\n",
       "                Machines       58867.87300\n",
       "Office Supplies Appliances    141680.58940\n",
       "                Storage       108461.48980\n",
       "                Binders        72449.84600\n",
       "                Paper          59207.68270\n",
       "                Art            57953.91090\n",
       "                Envelopes      29601.11630\n",
       "                Supplies       22583.26310\n",
       "                Labels         15010.51200\n",
       "                Fasteners      11525.42410\n",
       "Furniture       Bookcases     161924.41950\n",
       "                Chairs        141973.79750\n",
       "                Furnishings    46967.42550\n",
       "                Tables        -64083.38870"
      ]
     },
     "execution_count": 11,
     "metadata": {},
     "output_type": "execute_result"
    }
   ],
   "source": [
    "profit_df = pd.DataFrame(df.groupby(['category','sub_category']).sum()['profit'])\n",
    "\n",
    "profit_df.sort_values(['category','profit'], ascending = False)\n"
   ]
  },
  {
   "cell_type": "markdown",
   "metadata": {},
   "source": [
    "\n",
    "6. Who are the customers that attracts the most profit?\n",
    "\n",
    "***Here is a list of first 10 customers that bring in the most profit into the company, for bringing in more profit into the company, they could be given gift cards or vouchers when required ***"
   ]
  },
  {
   "cell_type": "code",
   "execution_count": 12,
   "metadata": {},
   "outputs": [
    {
     "data": {
      "text/html": [
       "<div>\n",
       "<style scoped>\n",
       "    .dataframe tbody tr th:only-of-type {\n",
       "        vertical-align: middle;\n",
       "    }\n",
       "\n",
       "    .dataframe tbody tr th {\n",
       "        vertical-align: top;\n",
       "    }\n",
       "\n",
       "    .dataframe thead th {\n",
       "        text-align: right;\n",
       "    }\n",
       "</style>\n",
       "<table border=\"1\" class=\"dataframe\">\n",
       "  <thead>\n",
       "    <tr style=\"text-align: right;\">\n",
       "      <th></th>\n",
       "      <th>profit</th>\n",
       "      <th>sales</th>\n",
       "    </tr>\n",
       "    <tr>\n",
       "      <th>customer_name</th>\n",
       "      <th></th>\n",
       "      <th></th>\n",
       "    </tr>\n",
       "  </thead>\n",
       "  <tbody>\n",
       "    <tr>\n",
       "      <th>Tamara Chand</th>\n",
       "      <td>8672.89890</td>\n",
       "      <td>37457.34</td>\n",
       "    </tr>\n",
       "    <tr>\n",
       "      <th>Raymond Buch</th>\n",
       "      <td>8453.04950</td>\n",
       "      <td>29602.16</td>\n",
       "    </tr>\n",
       "    <tr>\n",
       "      <th>Sanjit Chand</th>\n",
       "      <td>8205.37990</td>\n",
       "      <td>26521.13</td>\n",
       "    </tr>\n",
       "    <tr>\n",
       "      <th>Hunter Lopez</th>\n",
       "      <td>7816.56778</td>\n",
       "      <td>30243.60</td>\n",
       "    </tr>\n",
       "    <tr>\n",
       "      <th>Bill Eplett</th>\n",
       "      <td>7410.00530</td>\n",
       "      <td>28479.17</td>\n",
       "    </tr>\n",
       "    <tr>\n",
       "      <th>Harry Marie</th>\n",
       "      <td>6958.28640</td>\n",
       "      <td>28476.95</td>\n",
       "    </tr>\n",
       "    <tr>\n",
       "      <th>Susan Pistek</th>\n",
       "      <td>6484.40726</td>\n",
       "      <td>29020.60</td>\n",
       "    </tr>\n",
       "    <tr>\n",
       "      <th>Mike Gockenbach</th>\n",
       "      <td>6458.67620</td>\n",
       "      <td>23377.06</td>\n",
       "    </tr>\n",
       "    <tr>\n",
       "      <th>Adrian Barton</th>\n",
       "      <td>6417.28450</td>\n",
       "      <td>25123.19</td>\n",
       "    </tr>\n",
       "    <tr>\n",
       "      <th>Tom Ashbrook</th>\n",
       "      <td>6311.97910</td>\n",
       "      <td>40488.09</td>\n",
       "    </tr>\n",
       "  </tbody>\n",
       "</table>\n",
       "</div>"
      ],
      "text/plain": [
       "                     profit     sales\n",
       "customer_name                        \n",
       "Tamara Chand     8672.89890  37457.34\n",
       "Raymond Buch     8453.04950  29602.16\n",
       "Sanjit Chand     8205.37990  26521.13\n",
       "Hunter Lopez     7816.56778  30243.60\n",
       "Bill Eplett      7410.00530  28479.17\n",
       "Harry Marie      6958.28640  28476.95\n",
       "Susan Pistek     6484.40726  29020.60\n",
       "Mike Gockenbach  6458.67620  23377.06\n",
       "Adrian Barton    6417.28450  25123.19\n",
       "Tom Ashbrook     6311.97910  40488.09"
      ]
     },
     "execution_count": 12,
     "metadata": {},
     "output_type": "execute_result"
    }
   ],
   "source": [
    "cust_profit_df = df.groupby('customer_name')[['profit','sales']].sum().sort_values(by='profit',ascending=False).head(10)\n",
    "cust_profit_df"
   ]
  },
  {
   "cell_type": "code",
   "execution_count": 13,
   "metadata": {},
   "outputs": [
    {
     "data": {
      "text/html": [
       "<div>\n",
       "<style scoped>\n",
       "    .dataframe tbody tr th:only-of-type {\n",
       "        vertical-align: middle;\n",
       "    }\n",
       "\n",
       "    .dataframe tbody tr th {\n",
       "        vertical-align: top;\n",
       "    }\n",
       "\n",
       "    .dataframe thead th {\n",
       "        text-align: right;\n",
       "    }\n",
       "</style>\n",
       "<table border=\"1\" class=\"dataframe\">\n",
       "  <thead>\n",
       "    <tr style=\"text-align: right;\">\n",
       "      <th></th>\n",
       "      <th>order_id</th>\n",
       "      <th>order_date</th>\n",
       "      <th>ship_date</th>\n",
       "      <th>ship_mode</th>\n",
       "      <th>customer_name</th>\n",
       "      <th>segment</th>\n",
       "      <th>state</th>\n",
       "      <th>country</th>\n",
       "      <th>market</th>\n",
       "      <th>region</th>\n",
       "      <th>...</th>\n",
       "      <th>product_name</th>\n",
       "      <th>sales</th>\n",
       "      <th>quantity</th>\n",
       "      <th>discount</th>\n",
       "      <th>profit</th>\n",
       "      <th>shipping_cost</th>\n",
       "      <th>order_priority</th>\n",
       "      <th>year</th>\n",
       "      <th>month</th>\n",
       "      <th>weekday</th>\n",
       "    </tr>\n",
       "  </thead>\n",
       "  <tbody>\n",
       "    <tr>\n",
       "      <th>2019</th>\n",
       "      <td>IN-2011-28654</td>\n",
       "      <td>2011-06-05</td>\n",
       "      <td>10.05.11</td>\n",
       "      <td>Standard Class</td>\n",
       "      <td>Tamara Chand</td>\n",
       "      <td>Corporate</td>\n",
       "      <td>Sichuan</td>\n",
       "      <td>China</td>\n",
       "      <td>APAC</td>\n",
       "      <td>North Asia</td>\n",
       "      <td>...</td>\n",
       "      <td>Brother Wireless Fax, High-Speed</td>\n",
       "      <td>1131.03</td>\n",
       "      <td>3</td>\n",
       "      <td>0.0</td>\n",
       "      <td>327.96</td>\n",
       "      <td>76.57</td>\n",
       "      <td>High</td>\n",
       "      <td>2011</td>\n",
       "      <td>6</td>\n",
       "      <td>6</td>\n",
       "    </tr>\n",
       "    <tr>\n",
       "      <th>2022</th>\n",
       "      <td>IN-2011-28654</td>\n",
       "      <td>2011-06-05</td>\n",
       "      <td>10.05.11</td>\n",
       "      <td>Standard Class</td>\n",
       "      <td>Tamara Chand</td>\n",
       "      <td>Corporate</td>\n",
       "      <td>Sichuan</td>\n",
       "      <td>China</td>\n",
       "      <td>APAC</td>\n",
       "      <td>North Asia</td>\n",
       "      <td>...</td>\n",
       "      <td>Dania 3-Shelf Cabinet, Traditional</td>\n",
       "      <td>424.35</td>\n",
       "      <td>3</td>\n",
       "      <td>0.0</td>\n",
       "      <td>25.38</td>\n",
       "      <td>53.34</td>\n",
       "      <td>High</td>\n",
       "      <td>2011</td>\n",
       "      <td>6</td>\n",
       "      <td>6</td>\n",
       "    </tr>\n",
       "    <tr>\n",
       "      <th>2032</th>\n",
       "      <td>IN-2011-28654</td>\n",
       "      <td>2011-06-05</td>\n",
       "      <td>10.05.11</td>\n",
       "      <td>Standard Class</td>\n",
       "      <td>Tamara Chand</td>\n",
       "      <td>Corporate</td>\n",
       "      <td>Sichuan</td>\n",
       "      <td>China</td>\n",
       "      <td>APAC</td>\n",
       "      <td>North Asia</td>\n",
       "      <td>...</td>\n",
       "      <td>Eldon Stacking Tray, Black</td>\n",
       "      <td>252.00</td>\n",
       "      <td>8</td>\n",
       "      <td>0.0</td>\n",
       "      <td>108.24</td>\n",
       "      <td>11.19</td>\n",
       "      <td>High</td>\n",
       "      <td>2011</td>\n",
       "      <td>6</td>\n",
       "      <td>6</td>\n",
       "    </tr>\n",
       "    <tr>\n",
       "      <th>2734</th>\n",
       "      <td>AJ-2011-4420</td>\n",
       "      <td>2011-08-06</td>\n",
       "      <td>08.06.11</td>\n",
       "      <td>Same Day</td>\n",
       "      <td>Tamara Chand</td>\n",
       "      <td>Corporate</td>\n",
       "      <td>Baki</td>\n",
       "      <td>Azerbaijan</td>\n",
       "      <td>EMEA</td>\n",
       "      <td>EMEA</td>\n",
       "      <td>...</td>\n",
       "      <td>Hon Executive Leather Armchair, Adjustable</td>\n",
       "      <td>454.71</td>\n",
       "      <td>1</td>\n",
       "      <td>0.0</td>\n",
       "      <td>50.01</td>\n",
       "      <td>147.24</td>\n",
       "      <td>Critical</td>\n",
       "      <td>2011</td>\n",
       "      <td>8</td>\n",
       "      <td>5</td>\n",
       "    </tr>\n",
       "    <tr>\n",
       "      <th>2739</th>\n",
       "      <td>AJ-2011-4420</td>\n",
       "      <td>2011-08-06</td>\n",
       "      <td>08.06.11</td>\n",
       "      <td>Same Day</td>\n",
       "      <td>Tamara Chand</td>\n",
       "      <td>Corporate</td>\n",
       "      <td>Baki</td>\n",
       "      <td>Azerbaijan</td>\n",
       "      <td>EMEA</td>\n",
       "      <td>EMEA</td>\n",
       "      <td>...</td>\n",
       "      <td>Logitech Numeric Keypad, Programmable</td>\n",
       "      <td>95.64</td>\n",
       "      <td>2</td>\n",
       "      <td>0.0</td>\n",
       "      <td>12.42</td>\n",
       "      <td>23.75</td>\n",
       "      <td>Critical</td>\n",
       "      <td>2011</td>\n",
       "      <td>8</td>\n",
       "      <td>5</td>\n",
       "    </tr>\n",
       "  </tbody>\n",
       "</table>\n",
       "<p>5 rows × 23 columns</p>\n",
       "</div>"
      ],
      "text/plain": [
       "           order_id order_date ship_date       ship_mode customer_name  \\\n",
       "2019  IN-2011-28654 2011-06-05  10.05.11  Standard Class  Tamara Chand   \n",
       "2022  IN-2011-28654 2011-06-05  10.05.11  Standard Class  Tamara Chand   \n",
       "2032  IN-2011-28654 2011-06-05  10.05.11  Standard Class  Tamara Chand   \n",
       "2734   AJ-2011-4420 2011-08-06  08.06.11        Same Day  Tamara Chand   \n",
       "2739   AJ-2011-4420 2011-08-06  08.06.11        Same Day  Tamara Chand   \n",
       "\n",
       "        segment    state     country market      region  ...  \\\n",
       "2019  Corporate  Sichuan       China   APAC  North Asia  ...   \n",
       "2022  Corporate  Sichuan       China   APAC  North Asia  ...   \n",
       "2032  Corporate  Sichuan       China   APAC  North Asia  ...   \n",
       "2734  Corporate     Baki  Azerbaijan   EMEA        EMEA  ...   \n",
       "2739  Corporate     Baki  Azerbaijan   EMEA        EMEA  ...   \n",
       "\n",
       "                                    product_name    sales quantity discount  \\\n",
       "2019            Brother Wireless Fax, High-Speed  1131.03        3      0.0   \n",
       "2022          Dania 3-Shelf Cabinet, Traditional   424.35        3      0.0   \n",
       "2032                  Eldon Stacking Tray, Black   252.00        8      0.0   \n",
       "2734  Hon Executive Leather Armchair, Adjustable   454.71        1      0.0   \n",
       "2739       Logitech Numeric Keypad, Programmable    95.64        2      0.0   \n",
       "\n",
       "      profit  shipping_cost  order_priority  year  month weekday  \n",
       "2019  327.96          76.57            High  2011      6       6  \n",
       "2022   25.38          53.34            High  2011      6       6  \n",
       "2032  108.24          11.19            High  2011      6       6  \n",
       "2734   50.01         147.24        Critical  2011      8       5  \n",
       "2739   12.42          23.75        Critical  2011      8       5  \n",
       "\n",
       "[5 rows x 23 columns]"
      ]
     },
     "execution_count": 13,
     "metadata": {},
     "output_type": "execute_result"
    }
   ],
   "source": [
    "df[df['profit']== 8399.975999999999]\n",
    "df[df['customer_name']== 'Tamara Chand'].head(5)"
   ]
  },
  {
   "cell_type": "markdown",
   "metadata": {},
   "source": [
    "7. What item was mostly sold in each year?\n",
    "\n",
    "***Again, smartphones were the most sold in each year, especially Apple, Nokia, Cisco and Motorola brands***"
   ]
  },
  {
   "cell_type": "code",
   "execution_count": 14,
   "metadata": {},
   "outputs": [
    {
     "data": {
      "text/plain": [
       "Index(['order_id', 'order_date', 'ship_date', 'ship_mode', 'customer_name',\n",
       "       'segment', 'state', 'country', 'market', 'region', 'product_id',\n",
       "       'category', 'sub_category', 'product_name', 'sales', 'quantity',\n",
       "       'discount', 'profit', 'shipping_cost', 'order_priority', 'year',\n",
       "       'month', 'weekday'],\n",
       "      dtype='object')"
      ]
     },
     "execution_count": 14,
     "metadata": {},
     "output_type": "execute_result"
    }
   ],
   "source": [
    "df.columns"
   ]
  },
  {
   "cell_type": "code",
   "execution_count": 39,
   "metadata": {},
   "outputs": [
    {
     "name": "stdout",
     "output_type": "stream",
     "text": [
      "****************\n",
      "****************\n",
      "IN 2011\n",
      "                                                       sales\n",
      "product_name                                                \n",
      "Cisco TelePresence System EX90 Videoconferencin...  22638.48\n",
      "Samsung Smart Phone, VoIP                           16330.16\n",
      "Nokia Smart Phone, Full Size                        16265.52\n",
      "Cisco Smart Phone, with Caller ID                   15614.53\n",
      "Apple Smart Phone, Full Size                        14986.25\n",
      "Samsung Smart Phone, Cordless                       14300.82\n",
      "Nokia Smart Phone, Cordless                         13677.23\n",
      "SAFCO Executive Leather Armchair, Black             12530.70\n",
      "Lexmark MX611dhe Monochrome Laser Printer           11219.93\n",
      "Novimex Executive Leather Armchair, Black           10774.04\n",
      "****************\n",
      "****************\n",
      "IN 2012\n",
      "                                                       sales\n",
      "product_name                                                \n",
      "Nokia Smart Phone, Full Size                        21099.53\n",
      "Apple Smart Phone, Full Size                        19541.87\n",
      "Fellowes PB500 Electric Punch Plastic Comb Bind...  15760.28\n",
      "Motorola Smart Phone, Cordless                      15662.41\n",
      "Hon Executive Leather Armchair, Black               14349.62\n",
      "Samsung Smart Phone, Full Size                      12610.70\n",
      "Samsung Smart Phone, Cordless                       11928.00\n",
      "Samsung Smart Phone, with Caller ID                 11821.79\n",
      "Cisco Smart Phone, Cordless                         11813.50\n",
      "Cisco Smart Phone, Full Size                        11793.17\n",
      "****************\n",
      "****************\n",
      "IN 2013\n",
      "                                                       sales\n",
      "product_name                                                \n",
      "Motorola Smart Phone, Full Size                     29357.11\n",
      "Cisco Smart Phone, Full Size                        26737.14\n",
      "Canon imageCLASS 2200 Advanced Copier               25899.93\n",
      "Harbour Creations Executive Leather Armchair, A...  21871.13\n",
      "Apple Smart Phone, Full Size                        21120.41\n",
      "Hon Executive Leather Armchair, Adjustable          20104.62\n",
      "Office Star Executive Leather Armchair, Adjustable  19936.14\n",
      "Nokia Smart Phone, with Caller ID                   18568.86\n",
      "Samsung Smart Phone, VoIP                           16733.12\n",
      "Nokia Smart Phone, Full Size                        14765.88\n",
      "****************\n",
      "****************\n",
      "IN 2014\n",
      "                                               sales\n",
      "product_name                                        \n",
      "Canon imageCLASS 2200 Advanced Copier       35699.90\n",
      "Apple Smart Phone, Full Size                31287.26\n",
      "Cisco Smart Phone, Full Size                31248.57\n",
      "Motorola Smart Phone, Full Size             27557.12\n",
      "Hon Executive Leather Armchair, Adjustable  26401.22\n",
      "Nokia Smart Phone, Full Size                19773.63\n",
      "Apple Smart Phone, Cordless                 17650.97\n",
      "Novimex Executive Leather Armchair, Red     17556.63\n",
      "Hoover Stove, Red                           16030.85\n",
      "Sauder Classic Bookcase, Traditional        16029.90\n"
     ]
    }
   ],
   "source": [
    "year1 = df[df['year']== 2011]\n",
    "year2 = df[df['year']== 2012]\n",
    "year3 = df[df['year']== 2013]\n",
    "year4 = df[df['year']== 2014]\n",
    "\n",
    "#def create_yearly_sales(df):\n",
    "    #sales_df = df.groupby('product_name')[['sales']].sum().sort_values(by='sales', ascending=False).head()\n",
    "    \n",
    "    \n",
    "\n",
    "\n",
    "\n",
    "sales_2011 = year1.groupby('product_name')[['sales']].sum().sort_values(by='sales', ascending=False).head(10)\n",
    "sales_2012 = year2.groupby('product_name')[['sales']].sum().sort_values(by='sales', ascending=False).head(10)\n",
    "sales_2013 = year3.groupby('product_name')[['sales']].sum().sort_values(by='sales', ascending=False).head(10)\n",
    "sales_2014 = year4.groupby('product_name')[['sales']].sum().sort_values(by='sales', ascending=False).head(10)\n",
    "\n",
    "\n",
    "\n",
    "print('****************')\n",
    "print('****************')\n",
    "print('IN 2011')\n",
    "print(sales_2011)\n",
    "\n",
    "print('****************')\n",
    "print('****************')\n",
    "print('IN 2012')\n",
    "print(sales_2012)\n",
    "\n",
    "print('****************')\n",
    "print('****************')\n",
    "print('IN 2013')\n",
    "print(sales_2013)\n",
    "\n",
    "print('****************')\n",
    "print('****************')\n",
    "print('IN 2014')\n",
    "print(sales_2014)\n",
    "\n",
    "\n",
    "\n",
    "\n"
   ]
  },
  {
   "cell_type": "markdown",
   "metadata": {},
   "source": [
    "8. What day of the week did most people make orders?\n",
    "\n",
    "***Here, we see that most orders were made during the week starting from Monday(0) till Sunday(6)***"
   ]
  },
  {
   "cell_type": "code",
   "execution_count": 16,
   "metadata": {},
   "outputs": [
    {
     "data": {
      "text/plain": [
       "<AxesSubplot:xlabel='weekday', ylabel='count'>"
      ]
     },
     "execution_count": 16,
     "metadata": {},
     "output_type": "execute_result"
    },
    {
     "data": {
      "image/png": "[encoded data removed]",
      "text/plain": [
       "<Figure size 432x288 with 1 Axes>"
      ]
     },
     "metadata": {
      "needs_background": "light"
     },
     "output_type": "display_data"
    }
   ],
   "source": [
    "sns.countplot(data=df,x='weekday')"
   ]
  },
  {
   "cell_type": "markdown",
   "metadata": {},
   "source": [
    "9. Is there a trend in purchase per month?\n",
    "\n",
    "***There seems to be a significant trend in their purchases per month. More purchases were made towards the end of the month. This could be due to the festive period (November(11) and December(12)) where people buy gifts for their loved ones. I reckon that this is usually the peak period of this store***\n"
   ]
  },
  {
   "cell_type": "code",
   "execution_count": 17,
   "metadata": {},
   "outputs": [
    {
     "data": {
      "text/plain": [
       "<AxesSubplot:xlabel='month'>"
      ]
     },
     "execution_count": 17,
     "metadata": {},
     "output_type": "execute_result"
    },
    {
     "data": {
      "image/png": "[encoded data removed]",
      "text/plain": [
       "<Figure size 432x288 with 1 Axes>"
      ]
     },
     "metadata": {
      "needs_background": "light"
     },
     "output_type": "display_data"
    },
    {
     "data": {
      "image/png": "[encoded data removed]",
      "text/plain": [
       "<Figure size 432x288 with 1 Axes>"
      ]
     },
     "metadata": {
      "needs_background": "light"
     },
     "output_type": "display_data"
    }
   ],
   "source": [
    "sns.countplot(data=df,x='month')\n",
    "sales_month= pd.DataFrame(df.groupby('month')[[('sales')]].sum())\n",
    "sales_month.plot.line()"
   ]
  },
  {
   "cell_type": "markdown",
   "metadata": {},
   "source": [
    "Save cleaned CSV to file"
   ]
  },
  {
   "cell_type": "code",
   "execution_count": 18,
   "metadata": {},
   "outputs": [],
   "source": [
    "df_new = df.copy()\n",
    "df_new.to_csv('superstore_sales_cleaned.csv', index=False)"
   ]
  },
  {
   "cell_type": "markdown",
   "metadata": {},
   "source": [
    "\n",
    "10. What country do most customers come from ?"
   ]
  },
  {
   "cell_type": "code",
   "execution_count": 47,
   "metadata": {},
   "outputs": [
    {
     "data": {
      "text/html": [
       "<div>\n",
       "<style scoped>\n",
       "    .dataframe tbody tr th:only-of-type {\n",
       "        vertical-align: middle;\n",
       "    }\n",
       "\n",
       "    .dataframe tbody tr th {\n",
       "        vertical-align: top;\n",
       "    }\n",
       "\n",
       "    .dataframe thead th {\n",
       "        text-align: right;\n",
       "    }\n",
       "</style>\n",
       "<table border=\"1\" class=\"dataframe\">\n",
       "  <thead>\n",
       "    <tr style=\"text-align: right;\">\n",
       "      <th></th>\n",
       "      <th>sales</th>\n",
       "    </tr>\n",
       "    <tr>\n",
       "      <th>country</th>\n",
       "      <th></th>\n",
       "    </tr>\n",
       "  </thead>\n",
       "  <tbody>\n",
       "    <tr>\n",
       "      <th>United States</th>\n",
       "      <td>9994</td>\n",
       "    </tr>\n",
       "    <tr>\n",
       "      <th>Australia</th>\n",
       "      <td>2837</td>\n",
       "    </tr>\n",
       "    <tr>\n",
       "      <th>France</th>\n",
       "      <td>2827</td>\n",
       "    </tr>\n",
       "    <tr>\n",
       "      <th>Mexico</th>\n",
       "      <td>2644</td>\n",
       "    </tr>\n",
       "    <tr>\n",
       "      <th>Germany</th>\n",
       "      <td>2065</td>\n",
       "    </tr>\n",
       "  </tbody>\n",
       "</table>\n",
       "</div>"
      ],
      "text/plain": [
       "               sales\n",
       "country             \n",
       "United States   9994\n",
       "Australia       2837\n",
       "France          2827\n",
       "Mexico          2644\n",
       "Germany         2065"
      ]
     },
     "execution_count": 47,
     "metadata": {},
     "output_type": "execute_result"
    }
   ],
   "source": [
    "\n",
    "country_df = df.groupby('country')[['sales']].count().sort_values(by='sales', ascending = False)\n",
    "country_df.head()"
   ]
  },
  {
   "cell_type": "code",
   "execution_count": null,
   "metadata": {},
   "outputs": [],
   "source": []
  },
  {
   "cell_type": "code",
   "execution_count": null,
   "metadata": {},
   "outputs": [],
   "source": []
  },
  {
   "cell_type": "code",
   "execution_count": null,
   "metadata": {},
   "outputs": [],
   "source": []
  },
  {
   "cell_type": "code",
   "execution_count": null,
   "metadata": {},
   "outputs": [],
   "source": []
  },
  {
   "cell_type": "code",
   "execution_count": null,
   "metadata": {},
   "outputs": [],
   "source": []
  }
 ],
 "metadata": {
  "kernelspec": {
   "display_name": "Python 3",
   "language": "python",
   "name": "python3"
  },
  "language_info": {
   "codemirror_mode": {
    "name": "ipython",
    "version": 3
   },
   "file_extension": ".py",
   "mimetype": "text/x-python",
   "name": "python",
   "nbconvert_exporter": "python",
   "pygments_lexer": "ipython3",
   "version": "3.9.7"
  }
 },
 "nbformat": 4,
 "nbformat_minor": 2
}
